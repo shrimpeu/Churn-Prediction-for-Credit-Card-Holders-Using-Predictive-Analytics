{
 "cells": [
  {
   "cell_type": "markdown",
   "id": "0",
   "metadata": {},
   "source": [
    "# Exploratory Data Analysis (EDA) and Feature Engineering\n",
    "\n",
    "In this notebook, I will perform exploratory data analysis (EDA) on the cleaned credit card customer data to better understand patterns, relationships, and distributions of variables that may influence customer churn.  \n",
    "\n",
    "Insights from EDA will guide the creation of meaningful features that could improve the performance of our predictive models.  \n",
    "\n",
    "### Note on Univariate Analysis\n",
    "\n",
    "Univariate analysis for both numerical and categorical features was already performed during the **Data Cleaning** stage:\n",
    "\n",
    "- **Numerical features:**  \n",
    "  - **Skewness:** Specifically examined `Income`, `CreditLimit`, and `TotalSpend`, as these columns contained missing values and required careful handling for imputation and potential transformation.  \n",
    "  - **Outliers:** All numerical features were checked for outliers using the **IQR method**. Outliers were **capped** rather than removed to preserve dataset size while reducing the influence of extreme values.\n",
    "\n",
    "- **Categorical features:**  \n",
    "  Frequency counts and distributions were assessed.  \n",
    "  - Low-cardinality features were **one-hot encoded**.  \n",
    "  - High-cardinality features were **frequency encoded** to retain predictive information without inflating dimensionality.\n",
    "\n",
    "As a result, the dataset has already been cleaned and transformed at a univariate level, allowing this notebook to focus on:\n",
    "\n",
    "- Bivariate analysis of features and the target variable  \n",
    "- Correlation analysis  \n",
    "- Feature Engineering\n",
    "- Encoding categorical variables and preparing data for modeling"
   ]
  },
  {
   "cell_type": "code",
   "execution_count": null,
   "id": "1",
   "metadata": {},
   "outputs": [],
   "source": [
    "# Import necessary libraries\n",
    "import pandas as pd\n",
    "\n",
    "# Load the cleaned dataset saved from the previous step\n",
    "cleaned_data_path = r'..\\..\\data\\processed\\credit_card_attrition_cleaned.csv'\n",
    "df = pd.read_csv(cleaned_data_path)\n",
    "\n",
    "# Display the first few rows to verify loading\n",
    "df.head()"
   ]
  },
  {
   "cell_type": "code",
   "execution_count": null,
   "id": "2",
   "metadata": {},
   "outputs": [],
   "source": [
    "df.columns"
   ]
  },
  {
   "cell_type": "code",
   "execution_count": null,
   "id": "3",
   "metadata": {},
   "outputs": [],
   "source": [
    "df.shape"
   ]
  },
  {
   "cell_type": "markdown",
   "id": "4",
   "metadata": {},
   "source": [
    "## 1. Bivariate analysis of features and the target variable\n",
    "Goal: Identify features that differ significantly between churned (AttritionFlag=1) and non-churned (AttritionFlag=0) customers."
   ]
  },
  {
   "cell_type": "code",
   "execution_count": null,
   "id": "5",
   "metadata": {},
   "outputs": [],
   "source": [
    "# Import libraries\n",
    "import pandas as pd\n",
    "import matplotlib.pyplot as plt\n",
    "import seaborn as sns"
   ]
  },
  {
   "cell_type": "code",
   "execution_count": null,
   "id": "6",
   "metadata": {},
   "outputs": [],
   "source": [
    "# Count the number of churned and non-churned customers\n",
    "attrition_counts = df['AttritionFlag'].value_counts()\n",
    "\n",
    "# Pie chart\n",
    "plt.figure(figsize=(6,6))\n",
    "plt.pie(attrition_counts, labels=attrition_counts.index, autopct='%1.1f%%', startangle=90, colors=['#4CAF50', '#F44336'])\n",
    "plt.title('Distribution of AttritionFlag')\n",
    "plt.show()"
   ]
  },
  {
   "cell_type": "code",
   "execution_count": null,
   "id": "7",
   "metadata": {},
   "outputs": [],
   "source": [
    "# Separate features by type\n",
    "continuous_features = ['Age', 'Income', 'CreditLimit', 'TotalSpend', 'Tenure', 'TotalTransactions']\n",
    "boolean_features = ['Is_Female', 'MaritalStatus_Divorced', 'MaritalStatus_Married', \n",
    "                    'MaritalStatus_Single', 'MaritalStatus_Widowed',\n",
    "                    'EducationLevel_Bachelor', 'EducationLevel_High School',\n",
    "                    'EducationLevel_Master', 'EducationLevel_PhD',\n",
    "                    'CardType_Black', 'CardType_Gold', 'CardType_Platinum', 'CardType_Silver']\n",
    "engineered_features = [f'Feature_{i}' for i in range(50)] + ['Country_FE']"
   ]
  },
  {
   "cell_type": "code",
   "execution_count": null,
   "id": "8",
   "metadata": {},
   "outputs": [],
   "source": [
    "# -------------------------------\n",
    "# 1. Continuous Features\n",
    "# -------------------------------\n",
    "import os\n",
    "\n",
    "# Set folder to save plots\n",
    "save_folder = r'..\\..\\reports\\figures\\EDA_FeatureEng\\Continuous_FeaturesVSAttritionFlag'\n",
    "os.makedirs(save_folder, exist_ok=True)  # Create folder if it doesn't exist\n",
    "\n",
    "print(\"Bivariate Analysis: Continuous Features\\n\")\n",
    "\n",
    "for col in continuous_features:\n",
    "    print(col + \" vs AttritionFlag\")\n",
    "    print(df.groupby('AttritionFlag')[col].describe(), \"\\n\")\n",
    "    \n",
    "    plt.figure(figsize=(6,4))\n",
    "    sns.boxplot(x='AttritionFlag', y=col, data=df)\n",
    "    plt.title(f'{col} vs AttritionFlag')\n",
    "    plt.tight_layout()\n",
    "    plt.savefig(os.path.join(save_folder, f'{col}_boxplot.png'))\n",
    "    plt.show() "
   ]
  },
  {
   "cell_type": "markdown",
   "id": "9",
   "metadata": {},
   "source": [
    "*For Continuous features `Age`, `Income`, `CreditLimit`, `TotalSpend`, `Tenure`, `TotalTransactions`,  there are no significant differences in the distributions of continuous features between customers who churned (AttritionFlag = 1) and those who did not (AttritionFlag = 0). This suggests that these continuous features may have limited predictive power for distinguishing churn in this dataset.*"
   ]
  },
  {
   "cell_type": "code",
   "execution_count": null,
   "id": "10",
   "metadata": {},
   "outputs": [],
   "source": [
    "# -------------------------------\n",
    "# 2. Boolean Features (Readable)\n",
    "# -------------------------------\n",
    "# Set folder to save plots\n",
    "save_folder = r'..\\..\\reports\\figures\\EDA_FeatureEng\\Boolean_FeaturesVSAttritionFlag'\n",
    "os.makedirs(save_folder, exist_ok=True)  # Create folder if it doesn't exist\n",
    "\n",
    "print(\"Bivariate Analysis: Boolean Features\\n\")\n",
    "\n",
    "for col in boolean_features:\n",
    "    # Print value counts per AttritionFlag\n",
    "    print(f'{col} vs AttritionFlag')\n",
    "    print(pd.crosstab(df[col], df['AttritionFlag'], normalize='columns'), \"\\n\")  # proportions\n",
    "    \n",
    "    # Plot grouped bar chart\n",
    "    plt.figure(figsize=(6,4))\n",
    "    sns.countplot(x=col, hue='AttritionFlag', data=df, palette='Set2')\n",
    "    plt.title(f'{col} distribution by AttritionFlag')\n",
    "    plt.xlabel(f'{col} value')\n",
    "    plt.ylabel('Count')\n",
    "    plt.legend(title='AttritionFlag', labels=['No Churn (0)', 'Churn (1)'])\n",
    "    plt.tight_layout()\n",
    "    plt.savefig(os.path.join(save_folder, f'{col}_barplot.png'))\n",
    "    plt.show()"
   ]
  },
  {
   "cell_type": "markdown",
   "id": "11",
   "metadata": {},
   "source": [
    "*Same with continuous variables, the boolean features do not show significant differences between Churn and No Churn.*"
   ]
  },
  {
   "cell_type": "code",
   "execution_count": null,
   "id": "12",
   "metadata": {},
   "outputs": [],
   "source": [
    "# -------------------------------\n",
    "# Bivariate Analysis: Engineered Features\n",
    "# -------------------------------\n",
    "# Set folder to save plots\n",
    "save_folder = r'..\\..\\reports\\figures\\EDA_FeatureEng\\Engineered_FeaturesVSAttritionFlag'\n",
    "os.makedirs(save_folder, exist_ok=True)  # Create folder if it doesn't exist\n",
    "\n",
    "print(\"Bivariate Analysis: Engineered Features\\n\")\n",
    "\n",
    "for col in engineered_features:\n",
    "    print(f\"{col} vs AttritionFlag\")\n",
    "    # Group statistics\n",
    "    print(df.groupby('AttritionFlag')[col].mean(), \"\\n\")\n",
    "    \n",
    "    # # Boxplot\n",
    "    plt.figure(figsize=(6,4))\n",
    "    sns.boxplot(x='AttritionFlag', y=col, data=df)\n",
    "    plt.title(f'{col} vs AttritionFlag')\n",
    "    plt.xlabel('AttritionFlag (0=No, 1=Yes)')\n",
    "    plt.ylabel(col)\n",
    "    plt.tight_layout()\n",
    "    \n",
    "    # Save plot\n",
    "    plt.savefig(os.path.join(save_folder, f'{col}_boxplot.png'))\n",
    "    plt.show()"
   ]
  },
  {
   "cell_type": "markdown",
   "id": "13",
   "metadata": {},
   "source": [
    "*The bivariate analysis of the engineered features (`Feature_0` to `eature_49` and `Country_FE`) against the target variable AttritionFlag shows that the mean values of each feature are very similar between employees who stayed (`0`) and those who left (`1`).*"
   ]
  },
  {
   "cell_type": "markdown",
   "id": "14",
   "metadata": {},
   "source": [
    "### Bivariate Analysis Conclusion\n",
    "The bivariate analysis shows minimal differences between the features and the target variable (`AttritionFlag`). Continuous, boolean, and engineered features all exhibit similar distributions across the target classes. Overall, no individual feature demonstrates a significant relationship with attrition, indicating that predictive patterns may require modeling feature interactions or more advanced techniques."
   ]
  },
  {
   "cell_type": "markdown",
   "id": "15",
   "metadata": {},
   "source": [
    "## 2. Correlation Analysis"
   ]
  },
  {
   "cell_type": "markdown",
   "id": "16",
   "metadata": {},
   "source": [
    "Goal: Discover highly correlated features to inform which features to combine, transform, or drop during feature engineering."
   ]
  },
  {
   "cell_type": "code",
   "execution_count": null,
   "id": "17",
   "metadata": {},
   "outputs": [],
   "source": [
    "# Spearman correlation\n",
    "corr_matrix = df.corr(method='spearman')\n",
    "\n",
    "pd.set_option('display.max_rows', None) \n",
    "\n",
    "# Correlation with target\n",
    "target_corr = corr_matrix['AttritionFlag'].sort_values(ascending=False)\n",
    "print(target_corr)"
   ]
  },
  {
   "cell_type": "code",
   "execution_count": null,
   "id": "18",
   "metadata": {},
   "outputs": [],
   "source": [
    "plt.figure(figsize=(10,6))\n",
    "sns.barplot(x=target_corr.index, y=target_corr.values)\n",
    "plt.xticks(rotation=90)\n",
    "plt.ylabel('Spearman Correlation with AttritionFlag')\n",
    "plt.title('Feature Correlation with Target')\n",
    "plt.tight_layout()\n",
    "plt.show()"
   ]
  },
  {
   "cell_type": "markdown",
   "id": "19",
   "metadata": {},
   "source": [
    "*Spearman correlation between all numeric features and `AttritionFlag` shows values extremely close to zero, indicating no significant linear or monotonic relationship. This aligns with the bivariate analysis findings, confirming that none of the features individually differentiate the target.*"
   ]
  },
  {
   "cell_type": "code",
   "execution_count": null,
   "id": "20",
   "metadata": {},
   "outputs": [],
   "source": [
    "plt.figure(figsize=(20,16))\n",
    "sns.heatmap(corr_matrix, cmap='coolwarm', center=0, linewidths=0.5)\n",
    "plt.title('Spearman Correlation Matrix')\n",
    "plt.xticks(rotation=90)\n",
    "plt.yticks(rotation=0)\n",
    "plt.show()"
   ]
  },
  {
   "cell_type": "markdown",
   "id": "21",
   "metadata": {},
   "source": [
    "### Correlation Analysis Conclusion\n",
    "*There are no notable correlations between feature-feature and feature-target relationships. The few negative correlations observed are expected, as they originate from individual columns that were one-hot encoded.*"
   ]
  },
  {
   "cell_type": "markdown",
   "id": "22",
   "metadata": {},
   "source": [
    "## 3. Feature Engineering"
   ]
  },
  {
   "cell_type": "markdown",
   "id": "23",
   "metadata": {},
   "source": [
    "Goal: To transform the existing dataset into a richer, more informative set of features that maximizes the model’s ability to predict attrition/churn, despite weak raw correlations."
   ]
  },
  {
   "cell_type": "code",
   "execution_count": null,
   "id": "24",
   "metadata": {},
   "outputs": [],
   "source": [
    "df.head()"
   ]
  },
  {
   "cell_type": "markdown",
   "id": "25",
   "metadata": {},
   "source": [
    "### Create target-independent features"
   ]
  },
  {
   "cell_type": "code",
   "execution_count": null,
   "id": "26",
   "metadata": {},
   "outputs": [],
   "source": [
    "import numpy as np\n",
    "\n",
    "df['AvgTransaction'] = df['TotalSpend'] / np.where(df['TotalTransactions'] == 0, 1, df['TotalTransactions'])\n",
    "df['CreditUsage'] = df['TotalSpend'] / np.where(df['CreditLimit'] == 0, 1, df['CreditLimit'])\n",
    "df['SpendIncomeRatio'] = df['TotalSpend'] / np.where(df['Income'] == 0, 1, df['Income'])\n",
    "df['TenureRatio'] = df['Tenure'] / np.where(df['Age'] == 0, 1, df['Age'])"
   ]
  },
  {
   "cell_type": "markdown",
   "id": "27",
   "metadata": {},
   "source": [
    "`AvgTransaction`: Measures average spend per transaction, it normalizes spending by number of transactions to capture customer behavior.\n",
    "\n",
    "`CreditUsage`: Indicates how much of their credit limit the customer uses; can reflect financial stress or engagement with the product.\n",
    "\n",
    "`SpendIncomeRatio`: Shows the relative spending compared to income, which can indicate whether spending is sustainable or risky.\n",
    "\n",
    "`TenureRatio`: Normalizes tenure by age, capturing how long a customer has been with the bank relative to their age (loyalty vs. age)."
   ]
  },
  {
   "cell_type": "code",
   "execution_count": null,
   "id": "28",
   "metadata": {},
   "outputs": [],
   "source": [
    "feature_cols = [f'Feature_{i}' for i in range(50)]\n",
    "\n",
    "df['Feature_sum'] = df[feature_cols].sum(axis=1)\n",
    "df['Feature_mean'] = df[feature_cols].mean(axis=1)\n",
    "df['Feature_std'] = df[feature_cols].std(axis=1)\n",
    "df['Feature_max'] = df[feature_cols].max(axis=1)\n",
    "df['Feature_min'] = df[feature_cols].min(axis=1)"
   ]
  },
  {
   "cell_type": "markdown",
   "id": "29",
   "metadata": {},
   "source": [
    "Aggregates condense high-dimensional features into summary statistics:\n",
    "\n",
    "sum: total activity/score across all features\n",
    "\n",
    "mean: average behavior across features\n",
    "\n",
    "std: variability of behavior\n",
    "\n",
    "max/min: capture extremes or outliers\n",
    "\n",
    "Helps reduce dimensionality and captures overall trends in customer behavior."
   ]
  },
  {
   "cell_type": "code",
   "execution_count": null,
   "id": "30",
   "metadata": {},
   "outputs": [],
   "source": [
    "num_cols = df.select_dtypes(include=np.number).columns.tolist()\n",
    "num_cols.remove('AttritionFlag')  # exclude target\n",
    "\n",
    "skew_values = df[num_cols].skew().sort_values(ascending=False)\n",
    "print(skew_values.head(20))  # top 20 most skewed features"
   ]
  },
  {
   "cell_type": "code",
   "execution_count": null,
   "id": "31",
   "metadata": {},
   "outputs": [],
   "source": [
    "for col in ['CreditUsage', 'SpendIncomeRatio']:  # only skewed features\n",
    "    min_val = df[col].min()\n",
    "    if min_val <= 0:\n",
    "        df[col + '_log'] = np.log1p(df[col] - min_val + 1)\n",
    "    else:\n",
    "        df[col + '_log'] = np.log1p(df[col])"
   ]
  },
  {
   "cell_type": "markdown",
   "id": "32",
   "metadata": {},
   "source": [
    "*Since `CreditUsage` and `SpendIncomeRatio` are highly-skewed, we perform a log transformation (with a shift if necessary) to reduce skewness and make the distributions more suitable for modeling.*"
   ]
  },
  {
   "cell_type": "code",
   "execution_count": null,
   "id": "33",
   "metadata": {},
   "outputs": [],
   "source": [
    "df.shape"
   ]
  },
  {
   "cell_type": "code",
   "execution_count": null,
   "id": "34",
   "metadata": {},
   "outputs": [],
   "source": [
    "df.columns"
   ]
  },
  {
   "cell_type": "code",
   "execution_count": null,
   "id": "35",
   "metadata": {},
   "outputs": [],
   "source": [
    "df.head()"
   ]
  },
  {
   "cell_type": "code",
   "execution_count": null,
   "id": "36",
   "metadata": {},
   "outputs": [],
   "source": [
    "# Only numeric columns\n",
    "numeric_cols = df.select_dtypes(include=np.number).columns.tolist()\n",
    "\n",
    "# Compute correlation with target\n",
    "corr_with_target = df[numeric_cols].corr()['AttritionFlag'].sort_values(ascending=False)\n",
    "\n",
    "# Show top 10 positively and negatively correlated features\n",
    "print(\"Top positive correlations:\\n\", corr_with_target.head(10))\n",
    "print(\"\\nTop negative correlations:\\n\", corr_with_target.tail(10))\n"
   ]
  },
  {
   "cell_type": "code",
   "execution_count": null,
   "id": "37",
   "metadata": {},
   "outputs": [],
   "source": [
    "corr_spearman = df.corr(method='spearman')['AttritionFlag'].sort_values(ascending=False)\n",
    "print(\"Top positive correlations:\\n\", corr_spearman.head(10))\n",
    "print(\"\\nTop negative correlations:\\n\", corr_spearman.tail(10))"
   ]
  },
  {
   "cell_type": "markdown",
   "id": "38",
   "metadata": {},
   "source": [
    "All numeric features, including engineered ones, show very low correlations with the target (highest ~0.009, lowest ~-0.011).\n",
    "\n",
    "Even features with low correlation are kept, as they may still contribute in combination with others or capture non-linear relationships.\n",
    "\n",
    "This suggests that churn is likely driven by complex interactions, so feature engineering and non-linear models may be important."
   ]
  },
  {
   "cell_type": "markdown",
   "id": "39",
   "metadata": {},
   "source": [
    "### Create target-dependent features"
   ]
  },
  {
   "cell_type": "markdown",
   "id": "40",
   "metadata": {},
   "source": [
    "*Split dataset first to avoid data leakage since this will involve the target variable `AttritionFlag`*"
   ]
  },
  {
   "cell_type": "code",
   "execution_count": null,
   "id": "41",
   "metadata": {},
   "outputs": [],
   "source": []
  }
 ],
 "metadata": {
  "kernelspec": {
   "display_name": "creditcard-env",
   "language": "python",
   "name": "creditcard-env"
  },
  "language_info": {
   "codemirror_mode": {
    "name": "ipython",
    "version": 3
   },
   "file_extension": ".py",
   "mimetype": "text/x-python",
   "name": "python",
   "nbconvert_exporter": "python",
   "pygments_lexer": "ipython3",
   "version": "3.11.5"
  }
 },
 "nbformat": 4,
 "nbformat_minor": 5
}

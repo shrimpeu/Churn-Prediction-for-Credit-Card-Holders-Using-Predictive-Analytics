{
 "cells": [
  {
   "cell_type": "markdown",
   "id": "0",
   "metadata": {},
   "source": [
    "# Exploratory Data Analysis (EDA) and Feature Engineering\n",
    "\n",
    "In this notebook, I will perform exploratory data analysis (EDA) on the cleaned credit card customer data to better understand patterns, relationships, and distributions of variables that may influence customer churn.  \n",
    "\n",
    "Insights from EDA will guide the creation of meaningful features that could improve the performance of our predictive models.  \n",
    "\n",
    "### Note on Univariate Analysis\n",
    "\n",
    "Univariate analysis for both numerical and categorical features was already performed during the **Data Cleaning** stage:\n",
    "\n",
    "- **Numerical features:**  \n",
    "  - **Skewness:** Specifically examined `Income`, `CreditLimit`, and `TotalSpend`, as these columns contained missing values and required careful handling for imputation and potential transformation.  \n",
    "  - **Outliers:** All numerical features were checked for outliers using the **IQR method**. Outliers were **capped** rather than removed to preserve dataset size while reducing the influence of extreme values.\n",
    "\n",
    "- **Categorical features:**  \n",
    "  Frequency counts and distributions were assessed.  \n",
    "  - Low-cardinality features were **one-hot encoded**.  \n",
    "  - High-cardinality features were **frequency encoded** to retain predictive information without inflating dimensionality.\n",
    "\n",
    "As a result, the dataset has already been cleaned and transformed at a univariate level, allowing this notebook to focus on:\n",
    "\n",
    "- Bivariate analysis of features and the target variable  \n",
    "- Correlation analysis  \n",
    "- Feature Engineering\n",
    "- Encoding categorical variables and preparing data for modeling"
   ]
  },
  {
   "cell_type": "code",
   "execution_count": null,
   "id": "1",
   "metadata": {},
   "outputs": [],
   "source": [
    "# Import necessary libraries\n",
    "import pandas as pd\n",
    "\n",
    "# Load the cleaned dataset saved from the previous step\n",
    "cleaned_data_path = r'..\\..\\data\\processed\\credit_card_attrition_cleaned.csv'\n",
    "df = pd.read_csv(cleaned_data_path)\n",
    "\n",
    "# Display the first few rows to verify loading\n",
    "df.head()"
   ]
  },
  {
   "cell_type": "code",
   "execution_count": null,
   "id": "2",
   "metadata": {},
   "outputs": [],
   "source": [
    "df.columns"
   ]
  },
  {
   "cell_type": "code",
   "execution_count": null,
   "id": "3",
   "metadata": {},
   "outputs": [],
   "source": [
    "df.shape"
   ]
  },
  {
   "cell_type": "markdown",
   "id": "4",
   "metadata": {},
   "source": [
    "## 1. Bivariate analysis of features and the target variable\n",
    "Goal: Identify features that differ significantly between churned (AttritionFlag=1) and non-churned (AttritionFlag=0) customers."
   ]
  },
  {
   "cell_type": "code",
   "execution_count": null,
   "id": "5",
   "metadata": {},
   "outputs": [],
   "source": [
    "# Import libraries\n",
    "import pandas as pd\n",
    "import matplotlib.pyplot as plt\n",
    "import seaborn as sns"
   ]
  },
  {
   "cell_type": "code",
   "execution_count": null,
   "id": "6",
   "metadata": {},
   "outputs": [],
   "source": [
    "# Count the number of churned and non-churned customers\n",
    "attrition_counts = df['AttritionFlag'].value_counts()\n",
    "\n",
    "# Pie chart\n",
    "plt.figure(figsize=(6,6))\n",
    "plt.pie(attrition_counts, labels=attrition_counts.index, autopct='%1.1f%%', startangle=90, colors=['#4CAF50', '#F44336'])\n",
    "plt.title('Distribution of AttritionFlag')\n",
    "plt.show()"
   ]
  },
  {
   "cell_type": "code",
   "execution_count": null,
   "id": "7",
   "metadata": {},
   "outputs": [],
   "source": [
    "# Separate features by type\n",
    "continuous_features = ['Age', 'Income', 'CreditLimit', 'TotalSpend', 'Tenure', 'TotalTransactions']\n",
    "boolean_features = ['Is_Female', 'MaritalStatus_Divorced', 'MaritalStatus_Married', \n",
    "                    'MaritalStatus_Single', 'MaritalStatus_Widowed',\n",
    "                    'EducationLevel_Bachelor', 'EducationLevel_High School',\n",
    "                    'EducationLevel_Master', 'EducationLevel_PhD',\n",
    "                    'CardType_Black', 'CardType_Gold', 'CardType_Platinum', 'CardType_Silver']\n",
    "engineered_features = [f'Feature_{i}' for i in range(50)] + ['Country_FE']"
   ]
  },
  {
   "cell_type": "code",
   "execution_count": null,
   "id": "8",
   "metadata": {},
   "outputs": [],
   "source": [
    "# -------------------------------\n",
    "# 1. Continuous Features\n",
    "# -------------------------------\n",
    "import os\n",
    "\n",
    "# Set folder to save plots\n",
    "save_folder = r'..\\..\\reports\\figures\\EDA_FeatureEng\\Continuous_FeaturesVSAttritionFlag'\n",
    "os.makedirs(save_folder, exist_ok=True)  # Create folder if it doesn't exist\n",
    "\n",
    "print(\"Bivariate Analysis: Continuous Features\\n\")\n",
    "\n",
    "for col in continuous_features:\n",
    "    print(col + \" vs AttritionFlag\")\n",
    "    print(df.groupby('AttritionFlag')[col].describe(), \"\\n\")\n",
    "    \n",
    "    plt.figure(figsize=(6,4))\n",
    "    sns.boxplot(x='AttritionFlag', y=col, data=df)\n",
    "    plt.title(f'{col} vs AttritionFlag')\n",
    "    plt.tight_layout()\n",
    "    plt.savefig(os.path.join(save_folder, f'{col}_boxplot.png'))\n",
    "    plt.show() "
   ]
  },
  {
   "cell_type": "markdown",
   "id": "9",
   "metadata": {},
   "source": [
    "*For Continuous features `Age`, `Income`, `CreditLimit`, `TotalSpend`, `Tenure`, `TotalTransactions`,  there are no significant differences in the distributions of continuous features between customers who churned (AttritionFlag = 1) and those who did not (AttritionFlag = 0). This suggests that these continuous features may have limited predictive power for distinguishing churn in this dataset.*"
   ]
  },
  {
   "cell_type": "code",
   "execution_count": null,
   "id": "10",
   "metadata": {},
   "outputs": [],
   "source": [
    "# -------------------------------\n",
    "# 2. Boolean Features (Readable)\n",
    "# -------------------------------\n",
    "# Set folder to save plots\n",
    "save_folder = r'..\\..\\reports\\figures\\EDA_FeatureEng\\Boolean_FeaturesVSAttritionFlag'\n",
    "os.makedirs(save_folder, exist_ok=True)  # Create folder if it doesn't exist\n",
    "\n",
    "print(\"Bivariate Analysis: Boolean Features\\n\")\n",
    "\n",
    "for col in boolean_features:\n",
    "    # Print value counts per AttritionFlag\n",
    "    print(f'{col} vs AttritionFlag')\n",
    "    print(pd.crosstab(df[col], df['AttritionFlag'], normalize='columns'), \"\\n\")  # proportions\n",
    "    \n",
    "    # Plot grouped bar chart\n",
    "    plt.figure(figsize=(6,4))\n",
    "    sns.countplot(x=col, hue='AttritionFlag', data=df, palette='Set2')\n",
    "    plt.title(f'{col} distribution by AttritionFlag')\n",
    "    plt.xlabel(f'{col} value')\n",
    "    plt.ylabel('Count')\n",
    "    plt.legend(title='AttritionFlag', labels=['No Churn (0)', 'Churn (1)'])\n",
    "    plt.tight_layout()\n",
    "    plt.savefig(os.path.join(save_folder, f'{col}_barplot.png'))\n",
    "    plt.show()"
   ]
  },
  {
   "cell_type": "markdown",
   "id": "11",
   "metadata": {},
   "source": [
    "*Same with continuous variables, the boolean features do not show significant differences between Churn and No Churn.*"
   ]
  },
  {
   "cell_type": "code",
   "execution_count": null,
   "id": "12",
   "metadata": {},
   "outputs": [],
   "source": [
    "# -------------------------------\n",
    "# Bivariate Analysis: Engineered Features\n",
    "# -------------------------------\n",
    "# Set folder to save plots\n",
    "save_folder = r'..\\..\\reports\\figures\\EDA_FeatureEng\\Engineered_FeaturesVSAttritionFlag'\n",
    "os.makedirs(save_folder, exist_ok=True)  # Create folder if it doesn't exist\n",
    "\n",
    "print(\"Bivariate Analysis: Engineered Features\\n\")\n",
    "\n",
    "for col in engineered_features:\n",
    "    print(f\"{col} vs AttritionFlag\")\n",
    "    # Group statistics\n",
    "    print(df.groupby('AttritionFlag')[col].mean(), \"\\n\")\n",
    "    \n",
    "    # # Boxplot\n",
    "    plt.figure(figsize=(6,4))\n",
    "    sns.boxplot(x='AttritionFlag', y=col, data=df)\n",
    "    plt.title(f'{col} vs AttritionFlag')\n",
    "    plt.xlabel('AttritionFlag (0=No, 1=Yes)')\n",
    "    plt.ylabel(col)\n",
    "    plt.tight_layout()\n",
    "    \n",
    "    # Save plot\n",
    "    plt.savefig(os.path.join(save_folder, f'{col}_boxplot.png'))\n",
    "    plt.show()"
   ]
  },
  {
   "cell_type": "markdown",
   "id": "13",
   "metadata": {},
   "source": [
    "*The bivariate analysis of the engineered features (`Feature_0` to `eature_49` and `Country_FE`) against the target variable AttritionFlag shows that the mean values of each feature are very similar between employees who stayed (`0`) and those who left (`1`).*"
   ]
  },
  {
   "cell_type": "markdown",
   "id": "14",
   "metadata": {},
   "source": [
    "### Bivariate Analysis Conclusion\n",
    "The bivariate analysis shows minimal differences between the features and the target variable (`AttritionFlag`). Continuous, boolean, and engineered features all exhibit similar distributions across the target classes. Overall, no individual feature demonstrates a significant relationship with attrition, indicating that predictive patterns may require modeling feature interactions or more advanced techniques."
   ]
  },
  {
   "cell_type": "markdown",
   "id": "15",
   "metadata": {},
   "source": [
    "## 2. Correlation Analysis"
   ]
  },
  {
   "cell_type": "markdown",
   "id": "16",
   "metadata": {},
   "source": [
    "Goal: Discover highly correlated features to inform which features to combine, transform, or drop during feature engineering."
   ]
  },
  {
   "cell_type": "code",
   "execution_count": null,
   "id": "17",
   "metadata": {},
   "outputs": [],
   "source": [
    "# Spearman correlation\n",
    "corr_matrix = df.corr(method='spearman')\n",
    "\n",
    "pd.set_option('display.max_rows', None) \n",
    "\n",
    "# Correlation with target\n",
    "target_corr = corr_matrix['AttritionFlag'].sort_values(ascending=False)\n",
    "print(target_corr)"
   ]
  },
  {
   "cell_type": "code",
   "execution_count": null,
   "id": "18",
   "metadata": {},
   "outputs": [],
   "source": [
    "plt.figure(figsize=(10,6))\n",
    "sns.barplot(x=target_corr.index, y=target_corr.values)\n",
    "plt.xticks(rotation=90)\n",
    "plt.ylabel('Spearman Correlation with AttritionFlag')\n",
    "plt.title('Feature Correlation with Target')\n",
    "plt.tight_layout()\n",
    "plt.show()"
   ]
  },
  {
   "cell_type": "markdown",
   "id": "19",
   "metadata": {},
   "source": [
    "*Spearman correlation between all numeric features and `AttritionFlag` shows values extremely close to zero, indicating no significant linear or monotonic relationship. This aligns with the bivariate analysis findings, confirming that none of the features individually differentiate the target.*"
   ]
  },
  {
   "cell_type": "code",
   "execution_count": null,
   "id": "20",
   "metadata": {},
   "outputs": [],
   "source": [
    "plt.figure(figsize=(20,16))\n",
    "sns.heatmap(corr_matrix, cmap='coolwarm', center=0, linewidths=0.5)\n",
    "plt.title('Spearman Correlation Matrix')\n",
    "plt.xticks(rotation=90)\n",
    "plt.yticks(rotation=0)\n",
    "plt.show()"
   ]
  },
  {
   "cell_type": "markdown",
   "id": "21",
   "metadata": {},
   "source": [
    "### Correlation Analysis Conclusion\n",
    "*There are no notable correlations between feature-feature and feature-target relationships. The few negative correlations observed are expected, as they originate from individual columns that were one-hot encoded.*"
   ]
  },
  {
   "cell_type": "markdown",
   "id": "22",
   "metadata": {},
   "source": [
    "## 3. Feature Engineering"
   ]
  },
  {
   "cell_type": "markdown",
   "id": "23",
   "metadata": {},
   "source": [
    "Goal: To transform the existing dataset into a richer, more informative set of features that maximizes the model’s ability to predict attrition/churn, despite weak raw correlations."
   ]
  },
  {
   "cell_type": "code",
   "execution_count": null,
   "id": "24",
   "metadata": {},
   "outputs": [],
   "source": [
    "df.head()"
   ]
  },
  {
   "cell_type": "code",
   "execution_count": null,
   "id": "25",
   "metadata": {},
   "outputs": [],
   "source": []
  }
 ],
 "metadata": {
  "kernelspec": {
   "display_name": "creditcard-env",
   "language": "python",
   "name": "creditcard-env"
  },
  "language_info": {
   "codemirror_mode": {
    "name": "ipython",
    "version": 3
   },
   "file_extension": ".py",
   "mimetype": "text/x-python",
   "name": "python",
   "nbconvert_exporter": "python",
   "pygments_lexer": "ipython3",
   "version": "3.11.5"
  }
 },
 "nbformat": 4,
 "nbformat_minor": 5
}
